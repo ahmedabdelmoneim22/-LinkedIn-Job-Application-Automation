{
 "cells": [
  {
   "cell_type": "code",
   "execution_count": 2,
   "id": "9168960c",
   "metadata": {},
   "outputs": [
    {
     "name": "stdout",
     "output_type": "stream",
     "text": [
      "User Linkedin Job Application Automation Project\n"
     ]
    }
   ],
   "source": [
    "print(\"\"\"User Linkedin Job Application Automation Project\"\"\")"
   ]
  },
  {
   "cell_type": "code",
   "execution_count": 4,
   "id": "6f7ace4b",
   "metadata": {},
   "outputs": [
    {
     "data": {
      "text/plain": [
       "'\\nImport requests,Beautiful Soup,Web Scraping,Selenium WebDriver.\\n'"
      ]
     },
     "execution_count": 4,
     "metadata": {},
     "output_type": "execute_result"
    }
   ],
   "source": [
    "\"\"\"\n",
    "Import requests,Beautiful Soup,Web Scraping,Selenium WebDriver.\n",
    "\"\"\""
   ]
  },
  {
   "cell_type": "code",
   "execution_count": 3,
   "id": "f591a25d",
   "metadata": {},
   "outputs": [],
   "source": [
    "#!pip install selenium.\n",
    "#Control web browsers for Automated testing and Web scraping Tasks.\n",
    "from selenium import webdriver\n",
    "#Allows you to Simulate Keyboard Keys When interacting with Web Elements. \n",
    "from selenium.webdriver.common.keys import Keys\n",
    "#This Exception to Catch cases where a web element is not found.\n",
    "from selenium.common.exceptions import NoSuchElementException\n",
    "#To manage and control the ChromeDriver service.\n",
    "from selenium.webdriver.chrome.service import Service as ChromeService\n",
    "#To Find Web Elements on a Web Page By.ID.\n",
    "from selenium.webdriver.common.by import By\n",
    "import time\n",
    "#!pip install webdriver_manager.\n",
    "#!pip install webdriver_manager.\n",
    "from selenium import webdriver\n",
    "\"\"\"\n",
    "## Optional - Keep the browser open if the script crashes.\n",
    "#chrome_options = webdriver.ChromeOptions()\n",
    "#chrome_options.add_experimental_option(\"detach\", True)\n",
    "#service = ChromeService(executable_path=chrome_driver_path)\n",
    "#driver = webdriver.Chrome(service=service, options=chrome_options)\n",
    "\"\"\""
   ]
  },
  {
   "cell_type": "code",
   "execution_count": 32,
   "id": "321bad58",
   "metadata": {},
   "outputs": [
    {
     "name": "stdout",
     "output_type": "stream",
     "text": [
      "7\n",
      "[<selenium.webdriver.remote.webelement.WebElement (session=\"988b1868fd4063b67bee5e9192332ccc\", element=\"f.D73F23C08E89669C36489755CA67BB31.d.253CEBB4C6836DDB0E0D37F44B118EEE.e.98\")>, <selenium.webdriver.remote.webelement.WebElement (session=\"988b1868fd4063b67bee5e9192332ccc\", element=\"f.D73F23C08E89669C36489755CA67BB31.d.253CEBB4C6836DDB0E0D37F44B118EEE.e.99\")>, <selenium.webdriver.remote.webelement.WebElement (session=\"988b1868fd4063b67bee5e9192332ccc\", element=\"f.D73F23C08E89669C36489755CA67BB31.d.253CEBB4C6836DDB0E0D37F44B118EEE.e.100\")>, <selenium.webdriver.remote.webelement.WebElement (session=\"988b1868fd4063b67bee5e9192332ccc\", element=\"f.D73F23C08E89669C36489755CA67BB31.d.253CEBB4C6836DDB0E0D37F44B118EEE.e.101\")>, <selenium.webdriver.remote.webelement.WebElement (session=\"988b1868fd4063b67bee5e9192332ccc\", element=\"f.D73F23C08E89669C36489755CA67BB31.d.253CEBB4C6836DDB0E0D37F44B118EEE.e.102\")>, <selenium.webdriver.remote.webelement.WebElement (session=\"988b1868fd4063b67bee5e9192332ccc\", element=\"f.D73F23C08E89669C36489755CA67BB31.d.253CEBB4C6836DDB0E0D37F44B118EEE.e.103\")>, <selenium.webdriver.remote.webelement.WebElement (session=\"988b1868fd4063b67bee5e9192332ccc\", element=\"f.D73F23C08E89669C36489755CA67BB31.d.253CEBB4C6836DDB0E0D37F44B118EEE.e.104\")>]\n"
     ]
    }
   ],
   "source": [
    "def abort_application():\n",
    "    # Click Close Button\n",
    "    close_button = driver.find_element(by=By.CLASS_NAME, value=\"artdeco-modal__dismiss\")\n",
    "    close_button.click()\n",
    "    time.sleep(2)\n",
    "    # Click Discard Button\n",
    "    discard_button = driver.find_elements(by=By.CLASS_NAME, value=\"artdeco-modal__confirm-dialog-btn\")[1]\n",
    "    discard_button.click()\n",
    "# Initialize Chrome WebDriver.\n",
    "driver = webdriver.Chrome()\n",
    "# Open Google Chrome.\n",
    "driver.get(\"https://www.linkedin.com/login/ar?fromSignIn=true&trk=guest_homepage-basic_nav-header-signin\")\n",
    "time.sleep(5)\n",
    "ACCOUNT_EMAIL = \"***********************\"\n",
    "ACCOUNT_PASSWORD = \"********************\" \n",
    "email_field = driver.find_element(by=By.ID, value=\"username\")\n",
    "email_field.send_keys(ACCOUNT_EMAIL)\n",
    "time.sleep(1)\n",
    "password_field = driver.find_element(by=By.ID, value=\"password\")\n",
    "password_field.send_keys(ACCOUNT_PASSWORD)\n",
    "password_field.send_keys(Keys.ENTER)\n",
    "time.sleep(5)\n",
    "driver.get(\"https://www.linkedin.com/jobs/search/?currentJobId=3879091478&distance=50&f_AL=true&f_E=2%2C3&geoId=101131993&keywords=Junior%20Data%20Analyst&location=Cairo%2C%20Cairo%2C%20Egypt&origin=JOB_SEARCH_PAGE_JOB_FILTER&refresh=true&sortBy=R&spellCorrectionEnabled=true\")\n",
    "#ember1728\n",
    "# Get Listings\n",
    "time.sleep(5)\n",
    "all_listings = driver.find_elements(by=By.CSS_SELECTOR, value=\".job-card-container--clickable\")\n",
    "print(len(all_listings))\n",
    "print(all_listings)\n",
    "#all_listings[2].click()\n",
    "#time.sleep(3)\n",
    "## Click Apply Button.\n",
    "#apply_button = driver.find_element(by=By.CSS_SELECTOR, value=\".jobs-s-apply button\")\n",
    "#apply_button.click()\n",
    "#####################\n",
    "## Apply for Jobs.\n",
    "#for listing in all_listings:\n",
    "#    print(\"Opening Listing\")\n",
    "#    listing.click()\n",
    "#    time.sleep(2)\n",
    "#    try:\n",
    "#        # Click Apply Button\n",
    "#        apply_button = driver.find_element(by=By.CSS_SELECTOR, value=\".jobs-s-apply button\")\n",
    "#        apply_button.click()\n",
    "#\n",
    "#        # Insert Phone Number\n",
    "#        # Find an <input> element where the id contains phoneNumber\n",
    "#        time.sleep(5)\n",
    "#        phone = driver.find_element(by=By.CSS_SELECTOR, value=\"input[id*=phoneNumber]\")\n",
    "#        if phone.text == \"\":\n",
    "#            phone.send_keys(PHONE)\n",
    "#\n",
    "#        # Check the Submit Button\n",
    "#        submit_button = driver.find_element(by=By.CSS_SELECTOR, value=\"footer button\")\n",
    "#        if submit_button.get_attribute(\"data-control-name\") == \"continue_unify\":\n",
    "#            abort_application()\n",
    "#            print(\"Complex application, skipped.\")\n",
    "#            continue\n",
    "#        else:\n",
    "#            # Click Submit Button\n",
    "#            print(\"Submitting job application\")\n",
    "#            submit_button.click()\n",
    "#\n",
    "#        time.sleep(2)\n",
    "#        # Click Close Button\n",
    "#        close_button = driver.find_element(by=By.CLASS_NAME, value=\"artdeco-modal__dismiss\")\n",
    "#        close_button.click()\n",
    "#\n",
    "#    except NoSuchElementException:\n",
    "#        abort_application()\n",
    "#        print(\"No application button, skipped.\")\n",
    "#        continue\n",
    "#time.sleep(5)\n",
    "#driver.quit()"
   ]
  },
  {
   "cell_type": "code",
   "execution_count": null,
   "id": "7d174430",
   "metadata": {},
   "outputs": [],
   "source": []
  }
 ],
 "metadata": {
  "kernelspec": {
   "display_name": "Python 3 (ipykernel)",
   "language": "python",
   "name": "python3"
  },
  "language_info": {
   "codemirror_mode": {
    "name": "ipython",
    "version": 3
   },
   "file_extension": ".py",
   "mimetype": "text/x-python",
   "name": "python",
   "nbconvert_exporter": "python",
   "pygments_lexer": "ipython3",
   "version": "3.9.13"
  }
 },
 "nbformat": 4,
 "nbformat_minor": 5
}
